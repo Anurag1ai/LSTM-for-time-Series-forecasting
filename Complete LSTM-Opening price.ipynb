{
 "cells": [
  {
   "cell_type": "code",
   "execution_count": 1,
   "metadata": {
    "collapsed": true
   },
   "outputs": [],
   "source": [
    "import numpy as np\n",
    "import matplotlib.pyplot as plt\n",
    "import pandas as pd\n",
    "pd.set_option('display.float_format', lambda x: '%.4f' % x)\n",
    "import seaborn as sns\n",
    "sns.set_context(\"paper\", font_scale=1.3)\n",
    "sns.set_style('white')\n",
    "import warnings\n",
    "warnings.filterwarnings('ignore')\n",
    "from time import time\n",
    "import matplotlib.ticker as tkr\n",
    "from scipy import stats\n",
    "from statsmodels.tsa.stattools import adfuller\n",
    "from sklearn import preprocessing\n",
    "from statsmodels.tsa.stattools import pacf\n",
    "%matplotlib inline"
   ]
  },
  {
   "cell_type": "code",
   "execution_count": 2,
   "metadata": {},
   "outputs": [
    {
     "name": "stderr",
     "output_type": "stream",
     "text": [
      "Using TensorFlow backend.\n"
     ]
    }
   ],
   "source": [
    "import math\n",
    "import keras\n",
    "from keras.models import Sequential\n",
    "from keras.layers import Dense\n",
    "from keras.layers import LSTM\n",
    "from keras.layers import Dropout\n",
    "from keras.layers import *\n",
    "from sklearn.preprocessing import MinMaxScaler\n",
    "from sklearn.metrics import mean_squared_error\n",
    "from sklearn.metrics import mean_absolute_error\n",
    "from keras.callbacks import EarlyStopping"
   ]
  },
  {
   "cell_type": "code",
   "execution_count": 3,
   "metadata": {},
   "outputs": [
    {
     "name": "stdout",
     "output_type": "stream",
     "text": [
      "Number of rows and columns: (755, 7)\n"
     ]
    },
    {
     "data": {
      "text/html": [
       "<div>\n",
       "<style>\n",
       "    .dataframe thead tr:only-child th {\n",
       "        text-align: right;\n",
       "    }\n",
       "\n",
       "    .dataframe thead th {\n",
       "        text-align: left;\n",
       "    }\n",
       "\n",
       "    .dataframe tbody tr th {\n",
       "        vertical-align: top;\n",
       "    }\n",
       "</style>\n",
       "<table border=\"1\" class=\"dataframe\">\n",
       "  <thead>\n",
       "    <tr style=\"text-align: right;\">\n",
       "      <th></th>\n",
       "      <th>Date</th>\n",
       "      <th>Open</th>\n",
       "      <th>High</th>\n",
       "      <th>Low</th>\n",
       "      <th>Close</th>\n",
       "      <th>Adj Close</th>\n",
       "      <th>Volume</th>\n",
       "    </tr>\n",
       "  </thead>\n",
       "  <tbody>\n",
       "    <tr>\n",
       "      <th>0</th>\n",
       "      <td>2016-09-06</td>\n",
       "      <td>107.9000</td>\n",
       "      <td>108.3000</td>\n",
       "      <td>107.5100</td>\n",
       "      <td>107.7000</td>\n",
       "      <td>102.6637</td>\n",
       "      <td>26880400</td>\n",
       "    </tr>\n",
       "    <tr>\n",
       "      <th>1</th>\n",
       "      <td>2016-09-07</td>\n",
       "      <td>107.8300</td>\n",
       "      <td>108.7600</td>\n",
       "      <td>107.0700</td>\n",
       "      <td>108.3600</td>\n",
       "      <td>103.2928</td>\n",
       "      <td>42364300</td>\n",
       "    </tr>\n",
       "    <tr>\n",
       "      <th>2</th>\n",
       "      <td>2016-09-08</td>\n",
       "      <td>107.2500</td>\n",
       "      <td>107.2700</td>\n",
       "      <td>105.2400</td>\n",
       "      <td>105.5200</td>\n",
       "      <td>100.5856</td>\n",
       "      <td>53002000</td>\n",
       "    </tr>\n",
       "    <tr>\n",
       "      <th>3</th>\n",
       "      <td>2016-09-09</td>\n",
       "      <td>104.6400</td>\n",
       "      <td>105.7200</td>\n",
       "      <td>103.1300</td>\n",
       "      <td>103.1300</td>\n",
       "      <td>98.3074</td>\n",
       "      <td>46557000</td>\n",
       "    </tr>\n",
       "    <tr>\n",
       "      <th>4</th>\n",
       "      <td>2016-09-12</td>\n",
       "      <td>102.6500</td>\n",
       "      <td>105.7200</td>\n",
       "      <td>102.5300</td>\n",
       "      <td>105.4400</td>\n",
       "      <td>100.5094</td>\n",
       "      <td>45292800</td>\n",
       "    </tr>\n",
       "  </tbody>\n",
       "</table>\n",
       "</div>"
      ],
      "text/plain": [
       "         Date     Open     High      Low    Close  Adj Close    Volume\n",
       "0  2016-09-06 107.9000 108.3000 107.5100 107.7000   102.6637  26880400\n",
       "1  2016-09-07 107.8300 108.7600 107.0700 108.3600   103.2928  42364300\n",
       "2  2016-09-08 107.2500 107.2700 105.2400 105.5200   100.5856  53002000\n",
       "3  2016-09-09 104.6400 105.7200 103.1300 103.1300    98.3074  46557000\n",
       "4  2016-09-12 102.6500 105.7200 102.5300 105.4400   100.5094  45292800"
      ]
     },
     "execution_count": 3,
     "metadata": {},
     "output_type": "execute_result"
    }
   ],
   "source": [
    "df=pd.read_csv('C:\\\\TensorFlow\\\\AAPL.csv')\n",
    "print('Number of rows and columns:', df.shape)\n",
    "df.head(5)"
   ]
  },
  {
   "cell_type": "code",
   "execution_count": 4,
   "metadata": {},
   "outputs": [
    {
     "data": {
      "text/plain": [
       "Date          object\n",
       "Open         float64\n",
       "High         float64\n",
       "Low          float64\n",
       "Close        float64\n",
       "Adj Close    float64\n",
       "Volume         int64\n",
       "dtype: object"
      ]
     },
     "execution_count": 4,
     "metadata": {},
     "output_type": "execute_result"
    }
   ],
   "source": [
    "df.dtypes"
   ]
  },
  {
   "cell_type": "code",
   "execution_count": 5,
   "metadata": {
    "collapsed": true
   },
   "outputs": [],
   "source": [
    "df[\"Open\"] = pd.to_numeric(df[\"Open\"],errors=\"coerce\")"
   ]
  },
  {
   "cell_type": "code",
   "execution_count": 6,
   "metadata": {},
   "outputs": [
    {
     "data": {
      "text/plain": [
       "Date         0\n",
       "Open         0\n",
       "High         0\n",
       "Low          0\n",
       "Close        0\n",
       "Adj Close    0\n",
       "Volume       0\n",
       "dtype: int64"
      ]
     },
     "execution_count": 6,
     "metadata": {},
     "output_type": "execute_result"
    }
   ],
   "source": [
    "#no missing value\n",
    "df.isnull().sum()"
   ]
  },
  {
   "cell_type": "code",
   "execution_count": 7,
   "metadata": {
    "collapsed": true
   },
   "outputs": [],
   "source": [
    "df[\"Date\"] = pd.to_datetime(df[\"Date\"])\n"
   ]
  },
  {
   "cell_type": "code",
   "execution_count": 8,
   "metadata": {
    "collapsed": true
   },
   "outputs": [],
   "source": [
    "df[\"Year\"] = df[\"Date\"].apply(lambda x: x.year)\n",
    "df[\"Month\"] = df[\"Date\"].apply(lambda x: x.month)\n",
    "df[\"Quarter\"] = df[\"Date\"].apply(lambda x: x.quarter)\n",
    "df[\"Day\"] = df[\"Date\"].apply(lambda x: x.day)"
   ]
  },
  {
   "cell_type": "code",
   "execution_count": 9,
   "metadata": {},
   "outputs": [
    {
     "data": {
      "text/html": [
       "<div>\n",
       "<style>\n",
       "    .dataframe thead tr:only-child th {\n",
       "        text-align: right;\n",
       "    }\n",
       "\n",
       "    .dataframe thead th {\n",
       "        text-align: left;\n",
       "    }\n",
       "\n",
       "    .dataframe tbody tr th {\n",
       "        vertical-align: top;\n",
       "    }\n",
       "</style>\n",
       "<table border=\"1\" class=\"dataframe\">\n",
       "  <thead>\n",
       "    <tr style=\"text-align: right;\">\n",
       "      <th></th>\n",
       "      <th>Date</th>\n",
       "      <th>Open</th>\n",
       "      <th>High</th>\n",
       "      <th>Low</th>\n",
       "      <th>Close</th>\n",
       "      <th>Adj Close</th>\n",
       "      <th>Volume</th>\n",
       "      <th>Year</th>\n",
       "      <th>Month</th>\n",
       "      <th>Quarter</th>\n",
       "      <th>Day</th>\n",
       "    </tr>\n",
       "  </thead>\n",
       "  <tbody>\n",
       "    <tr>\n",
       "      <th>0</th>\n",
       "      <td>2016-09-06</td>\n",
       "      <td>107.9000</td>\n",
       "      <td>108.3000</td>\n",
       "      <td>107.5100</td>\n",
       "      <td>107.7000</td>\n",
       "      <td>102.6637</td>\n",
       "      <td>26880400</td>\n",
       "      <td>2016</td>\n",
       "      <td>9</td>\n",
       "      <td>3</td>\n",
       "      <td>6</td>\n",
       "    </tr>\n",
       "    <tr>\n",
       "      <th>1</th>\n",
       "      <td>2016-09-07</td>\n",
       "      <td>107.8300</td>\n",
       "      <td>108.7600</td>\n",
       "      <td>107.0700</td>\n",
       "      <td>108.3600</td>\n",
       "      <td>103.2928</td>\n",
       "      <td>42364300</td>\n",
       "      <td>2016</td>\n",
       "      <td>9</td>\n",
       "      <td>3</td>\n",
       "      <td>7</td>\n",
       "    </tr>\n",
       "    <tr>\n",
       "      <th>2</th>\n",
       "      <td>2016-09-08</td>\n",
       "      <td>107.2500</td>\n",
       "      <td>107.2700</td>\n",
       "      <td>105.2400</td>\n",
       "      <td>105.5200</td>\n",
       "      <td>100.5856</td>\n",
       "      <td>53002000</td>\n",
       "      <td>2016</td>\n",
       "      <td>9</td>\n",
       "      <td>3</td>\n",
       "      <td>8</td>\n",
       "    </tr>\n",
       "    <tr>\n",
       "      <th>3</th>\n",
       "      <td>2016-09-09</td>\n",
       "      <td>104.6400</td>\n",
       "      <td>105.7200</td>\n",
       "      <td>103.1300</td>\n",
       "      <td>103.1300</td>\n",
       "      <td>98.3074</td>\n",
       "      <td>46557000</td>\n",
       "      <td>2016</td>\n",
       "      <td>9</td>\n",
       "      <td>3</td>\n",
       "      <td>9</td>\n",
       "    </tr>\n",
       "    <tr>\n",
       "      <th>4</th>\n",
       "      <td>2016-09-12</td>\n",
       "      <td>102.6500</td>\n",
       "      <td>105.7200</td>\n",
       "      <td>102.5300</td>\n",
       "      <td>105.4400</td>\n",
       "      <td>100.5094</td>\n",
       "      <td>45292800</td>\n",
       "      <td>2016</td>\n",
       "      <td>9</td>\n",
       "      <td>3</td>\n",
       "      <td>12</td>\n",
       "    </tr>\n",
       "  </tbody>\n",
       "</table>\n",
       "</div>"
      ],
      "text/plain": [
       "        Date     Open     High      Low    Close  Adj Close    Volume  Year  \\\n",
       "0 2016-09-06 107.9000 108.3000 107.5100 107.7000   102.6637  26880400  2016   \n",
       "1 2016-09-07 107.8300 108.7600 107.0700 108.3600   103.2928  42364300  2016   \n",
       "2 2016-09-08 107.2500 107.2700 105.2400 105.5200   100.5856  53002000  2016   \n",
       "3 2016-09-09 104.6400 105.7200 103.1300 103.1300    98.3074  46557000  2016   \n",
       "4 2016-09-12 102.6500 105.7200 102.5300 105.4400   100.5094  45292800  2016   \n",
       "\n",
       "   Month  Quarter  Day  \n",
       "0      9        3    6  \n",
       "1      9        3    7  \n",
       "2      9        3    8  \n",
       "3      9        3    9  \n",
       "4      9        3   12  "
      ]
     },
     "execution_count": 9,
     "metadata": {},
     "output_type": "execute_result"
    }
   ],
   "source": [
    "df.head()"
   ]
  },
  {
   "cell_type": "code",
   "execution_count": 10,
   "metadata": {
    "collapsed": true
   },
   "outputs": [],
   "source": [
    "df=df.loc[:,['Date','Open', 'Year','Quarter','Month','Day']]"
   ]
  },
  {
   "cell_type": "code",
   "execution_count": 11,
   "metadata": {},
   "outputs": [
    {
     "data": {
      "text/html": [
       "<div>\n",
       "<style>\n",
       "    .dataframe thead tr:only-child th {\n",
       "        text-align: right;\n",
       "    }\n",
       "\n",
       "    .dataframe thead th {\n",
       "        text-align: left;\n",
       "    }\n",
       "\n",
       "    .dataframe tbody tr th {\n",
       "        vertical-align: top;\n",
       "    }\n",
       "</style>\n",
       "<table border=\"1\" class=\"dataframe\">\n",
       "  <thead>\n",
       "    <tr style=\"text-align: right;\">\n",
       "      <th></th>\n",
       "      <th>Date</th>\n",
       "      <th>Open</th>\n",
       "      <th>Year</th>\n",
       "      <th>Quarter</th>\n",
       "      <th>Month</th>\n",
       "      <th>Day</th>\n",
       "    </tr>\n",
       "  </thead>\n",
       "  <tbody>\n",
       "    <tr>\n",
       "      <th>0</th>\n",
       "      <td>2016-09-06</td>\n",
       "      <td>107.9000</td>\n",
       "      <td>2016</td>\n",
       "      <td>3</td>\n",
       "      <td>9</td>\n",
       "      <td>6</td>\n",
       "    </tr>\n",
       "    <tr>\n",
       "      <th>1</th>\n",
       "      <td>2016-09-07</td>\n",
       "      <td>107.8300</td>\n",
       "      <td>2016</td>\n",
       "      <td>3</td>\n",
       "      <td>9</td>\n",
       "      <td>7</td>\n",
       "    </tr>\n",
       "    <tr>\n",
       "      <th>2</th>\n",
       "      <td>2016-09-08</td>\n",
       "      <td>107.2500</td>\n",
       "      <td>2016</td>\n",
       "      <td>3</td>\n",
       "      <td>9</td>\n",
       "      <td>8</td>\n",
       "    </tr>\n",
       "    <tr>\n",
       "      <th>3</th>\n",
       "      <td>2016-09-09</td>\n",
       "      <td>104.6400</td>\n",
       "      <td>2016</td>\n",
       "      <td>3</td>\n",
       "      <td>9</td>\n",
       "      <td>9</td>\n",
       "    </tr>\n",
       "    <tr>\n",
       "      <th>4</th>\n",
       "      <td>2016-09-12</td>\n",
       "      <td>102.6500</td>\n",
       "      <td>2016</td>\n",
       "      <td>3</td>\n",
       "      <td>9</td>\n",
       "      <td>12</td>\n",
       "    </tr>\n",
       "  </tbody>\n",
       "</table>\n",
       "</div>"
      ],
      "text/plain": [
       "        Date     Open  Year  Quarter  Month  Day\n",
       "0 2016-09-06 107.9000  2016        3      9    6\n",
       "1 2016-09-07 107.8300  2016        3      9    7\n",
       "2 2016-09-08 107.2500  2016        3      9    8\n",
       "3 2016-09-09 104.6400  2016        3      9    9\n",
       "4 2016-09-12 102.6500  2016        3      9   12"
      ]
     },
     "execution_count": 11,
     "metadata": {},
     "output_type": "execute_result"
    }
   ],
   "source": [
    "df.head()"
   ]
  },
  {
   "cell_type": "code",
   "execution_count": 12,
   "metadata": {
    "collapsed": true
   },
   "outputs": [],
   "source": [
    "df.sort_values('Date', inplace=True, ascending=True)\n",
    "df = df.reset_index(drop=True)"
   ]
  },
  {
   "cell_type": "code",
   "execution_count": 13,
   "metadata": {
    "collapsed": true
   },
   "outputs": [],
   "source": [
    "df[\"weekday\"]=df.apply(lambda row: row[\"Date\"].weekday(),axis=1)\n",
    "df[\"weekday\"] = (df[\"weekday\"] < 5).astype(int)"
   ]
  },
  {
   "cell_type": "code",
   "execution_count": 14,
   "metadata": {},
   "outputs": [
    {
     "name": "stdout",
     "output_type": "stream",
     "text": [
      "Number of rows and columns after removing missing values: (755, 7)\n",
      "The time series starts from:  2016-09-06 00:00:00\n",
      "The time series ends on:  2019-09-05 00:00:00\n"
     ]
    }
   ],
   "source": [
    "print('Number of rows and columns after removing missing values:', df.shape)\n",
    "print('The time series starts from: ', df.Date.min())\n",
    "print('The time series ends on: ', df.Date.max())"
   ]
  },
  {
   "cell_type": "markdown",
   "metadata": {},
   "source": [
    "The following data pre-processing and feature engineering need to be done before construct the LSTM model.\n",
    "\n",
    "1. Create the dataset, ensure all data is float.\n",
    "\n",
    "2. Normalize the features.\n",
    "\n",
    "3. Split into training and test sets.\n",
    "\n",
    "4. Convert an array of values into a dataset matrix.\n",
    "\n",
    "5. Reshape into X=t and Y=t+1.\n",
    "\n",
    "6. Reshape input to be 3D (num_samples, num_timesteps, num_features)."
   ]
  },
  {
   "cell_type": "code",
   "execution_count": 128,
   "metadata": {},
   "outputs": [
    {
     "name": "stdout",
     "output_type": "stream",
     "text": [
      "[107.9  107.83]\n"
     ]
    },
    {
     "data": {
      "text/plain": [
       "(755, 1)"
      ]
     },
     "execution_count": 128,
     "metadata": {},
     "output_type": "execute_result"
    }
   ],
   "source": [
    "dataset =  df[\"Open\"].values\n",
    "dataset = dataset.astype('float32')\n",
    "dataset = np.reshape(dataset, (-1, 1))\n",
    "print(dataset[:2,0])\n",
    "dataset.shape"
   ]
  },
  {
   "cell_type": "code",
   "execution_count": 129,
   "metadata": {},
   "outputs": [
    {
     "name": "stdout",
     "output_type": "stream",
     "text": [
      "(604, 1) (151, 1)\n"
     ]
    }
   ],
   "source": [
    "scaler = MinMaxScaler(feature_range=(0,1))\n",
    "dataset = scaler.fit_transform(dataset)\n",
    "trainSize =int(len(dataset)*.80)\n",
    "testSize = len(dataset) - trainSize\n",
    "train,test = dataset[0:trainSize,:],dataset[trainSize:len(dataset),:]\n",
    "print(train.shape,test.shape)"
   ]
  },
  {
   "cell_type": "code",
   "execution_count": 130,
   "metadata": {},
   "outputs": [
    {
     "name": "stdout",
     "output_type": "stream",
     "text": [
      "(573, 30) (120, 30)\n"
     ]
    }
   ],
   "source": [
    "def seriesToSupervised(data,lookback=1):\n",
    "    X,y = list(),list()\n",
    "    for i in range(len(data)-lookback-1):\n",
    "        xTemp = data[i:(i+lookback),0]\n",
    "        yTemp = data[i+lookback,0]\n",
    "        X.append(xTemp)\n",
    "        y.append(yTemp)\n",
    "    return np.array(X),np.array(y)\n",
    "lookback= 30\n",
    "x_train,y_train = seriesToSupervised(train,lookback)\n",
    "x_test,y_test= seriesToSupervised(test,lookback)\n",
    "print( x_train.shape,x_test.shape)"
   ]
  },
  {
   "cell_type": "code",
   "execution_count": 131,
   "metadata": {
    "collapsed": true
   },
   "outputs": [],
   "source": [
    "# reshape input to be [samples, time steps, features]\n",
    "x_train = x_train.reshape(573,1,30)\n",
    "x_test = x_test.reshape(120,1,30)\n"
   ]
  },
  {
   "cell_type": "code",
   "execution_count": 132,
   "metadata": {},
   "outputs": [
    {
     "name": "stdout",
     "output_type": "stream",
     "text": [
      "Train on 573 samples, validate on 120 samples\n",
      "Epoch 1/20\n",
      "573/573 [==============================] - 2s 4ms/step - loss: 0.0191 - val_loss: 0.0181\n",
      "Epoch 2/20\n",
      "573/573 [==============================] - 0s 276us/step - loss: 0.0188 - val_loss: 0.0107\n",
      "Epoch 3/20\n",
      "573/573 [==============================] - 0s 260us/step - loss: 0.0102 - val_loss: 0.0061\n",
      "Epoch 4/20\n",
      "573/573 [==============================] - 0s 279us/step - loss: 0.0065 - val_loss: 0.0038\n",
      "Epoch 5/20\n",
      "573/573 [==============================] - 0s 260us/step - loss: 0.0056 - val_loss: 0.0036\n",
      "Epoch 6/20\n",
      "573/573 [==============================] - 0s 279us/step - loss: 0.0056 - val_loss: 0.0034\n",
      "Epoch 7/20\n",
      "573/573 [==============================] - 0s 297us/step - loss: 0.0045 - val_loss: 0.0035\n",
      "Epoch 8/20\n",
      "573/573 [==============================] - 0s 251us/step - loss: 0.0051 - val_loss: 0.0030\n",
      "Epoch 9/20\n",
      "573/573 [==============================] - 0s 264us/step - loss: 0.0043 - val_loss: 0.0029\n",
      "Epoch 10/20\n",
      "573/573 [==============================] - 0s 260us/step - loss: 0.0041 - val_loss: 0.0026\n",
      "Epoch 11/20\n",
      "573/573 [==============================] - 0s 318us/step - loss: 0.0032 - val_loss: 0.0032\n",
      "Epoch 12/20\n",
      "573/573 [==============================] - 0s 295us/step - loss: 0.0035 - val_loss: 0.0027\n",
      "Epoch 13/20\n",
      "573/573 [==============================] - 0s 253us/step - loss: 0.0036 - val_loss: 0.0025\n",
      "Epoch 14/20\n",
      "573/573 [==============================] - 0s 243us/step - loss: 0.0036 - val_loss: 0.0039\n",
      "Epoch 15/20\n",
      "573/573 [==============================] - 0s 290us/step - loss: 0.0038 - val_loss: 0.0048\n",
      "Epoch 16/20\n",
      "573/573 [==============================] - 0s 269us/step - loss: 0.0039 - val_loss: 0.0053\n",
      "Epoch 17/20\n",
      "573/573 [==============================] - 0s 403us/step - loss: 0.0035 - val_loss: 0.0037\n",
      "Epoch 18/20\n",
      "573/573 [==============================] - 0s 442us/step - loss: 0.0030 - val_loss: 0.0028\n",
      "Epoch 19/20\n",
      "573/573 [==============================] - 0s 464us/step - loss: 0.0027 - val_loss: 0.0028\n",
      "Epoch 20/20\n",
      "573/573 [==============================] - 0s 408us/step - loss: 0.0027 - val_loss: 0.0041\n"
     ]
    }
   ],
   "source": [
    "#Model declaration\n",
    "#Define the LSTM with 100 neurons in the first hidden layer and 1 neuron in the output layer for predicting Volume.\n",
    "#The input shape will be 1 time step with 30 features.\n",
    "model = Sequential()\n",
    "\n",
    "model.add(LSTM(100, input_shape=(x_train.shape[1], x_train.shape[2]))) #,return_sequences=True)\n",
    "\n",
    "#model.add(LSTM(2))\n",
    "\n",
    "model.add(Dropout(0.2))\n",
    "\n",
    "model.add(Dense(1))\n",
    "\n",
    "model.compile(loss='mean_squared_error', optimizer='adam')\n",
    "\n",
    "trModel = model.fit(x_train, y_train, epochs=20, batch_size=30, validation_data=(x_test, y_test),\n",
    "                    callbacks=[EarlyStopping(monitor='val_loss', patience=10)], verbose=1, shuffle=False)"
   ]
  },
  {
   "cell_type": "code",
   "execution_count": 133,
   "metadata": {},
   "outputs": [
    {
     "name": "stdout",
     "output_type": "stream",
     "text": [
      "[0.09564445 0.09937204]\n",
      "[0.12120503 0.1139468 ]\n"
     ]
    }
   ],
   "source": [
    "train_predict = model.predict(x_train)\n",
    "test_predict = model.predict(x_test)\n",
    "print(train_predict[:2,0])\n",
    "print(y_train[:2])\n"
   ]
  },
  {
   "cell_type": "code",
   "execution_count": 134,
   "metadata": {
    "collapsed": true
   },
   "outputs": [],
   "source": [
    "# invert predictions\n",
    "train_predict = scaler.inverse_transform(train_predict)\n",
    "y_train = scaler.inverse_transform([y_train])\n",
    "test_predict = scaler.inverse_transform(test_predict)\n",
    "y_test = scaler.inverse_transform([y_test])"
   ]
  },
  {
   "cell_type": "code",
   "execution_count": 135,
   "metadata": {},
   "outputs": [
    {
     "name": "stdout",
     "output_type": "stream",
     "text": [
      "Train Mean Absolute Error: 4.783729061688224\n",
      "Train Root Mean Squared Error: 5.826271225215644\n",
      "Test Mean Absolute Error: 6.887375789056375\n",
      "Test Root Mean Squared Error: 8.25170104185354\n"
     ]
    }
   ],
   "source": [
    "print('Train Mean Absolute Error:', mean_absolute_error(y_train[0], train_predict[:,0]))\n",
    "print('Train Root Mean Squared Error:',np.sqrt(mean_squared_error(y_train[0], train_predict[:,0])))\n",
    "print('Test Mean Absolute Error:', mean_absolute_error(y_test[0], test_predict[:,0]))\n",
    "print('Test Root Mean Squared Error:', np.sqrt(mean_squared_error(y_test[0], test_predict[:,0])))"
   ]
  },
  {
   "cell_type": "code",
   "execution_count": 136,
   "metadata": {},
   "outputs": [
    {
     "data": {
      "image/png": "[encoded data removed]",
      "text/plain": [
       "<matplotlib.figure.Figure at 0x2515b4a6400>"
      ]
     },
     "metadata": {
      "needs_background": "light"
     },
     "output_type": "display_data"
    }
   ],
   "source": [
    "plt.figure(figsize=(8,4))\n",
    "plt.plot(trModel.history['loss'], label='Train Loss')\n",
    "plt.plot(trModel.history['val_loss'], label='Test Loss')\n",
    "plt.title('model loss')\n",
    "plt.ylabel('loss')\n",
    "plt.xlabel('epochs')\n",
    "plt.legend(loc='upper right')\n",
    "plt.show();"
   ]
  },
  {
   "cell_type": "code",
   "execution_count": 137,
   "metadata": {},
   "outputs": [
    {
     "data": {
      "image/png": "[encoded data removed]",
      "text/plain": [
       "<matplotlib.figure.Figure at 0x2515b33dda0>"
      ]
     },
     "metadata": {
      "needs_background": "light"
     },
     "output_type": "display_data"
    }
   ],
   "source": [
    "aa=[x for x in range(100)]\n",
    "plt.figure(figsize=(8,4))\n",
    "plt.plot(aa, y_test[0][:100], marker='.', label=\"actual\")\n",
    "plt.plot(aa, test_predict[:,0][:100], 'r', label=\"prediction\")\n",
    "# plt.tick_params(left=False, labelleft=True) #remove ticks\n",
    "plt.tight_layout()\n",
    "sns.despine(top=True)\n",
    "plt.subplots_adjust(left=0.07)\n",
    "plt.ylabel('Volume', size=15)\n",
    "plt.xlabel('Time step', size=15)\n",
    "plt.legend(fontsize=15)\n",
    "plt.show();"
   ]
  },
  {
   "cell_type": "code",
   "execution_count": 138,
   "metadata": {
    "collapsed": true
   },
   "outputs": [],
   "source": [
    "#predicting over a new data input\n",
    "new_input = np.array([118.18    , 117.25    , 116.860001, 116.809998, 117.099998,\n",
    "       117.949997, 114.309998, 115.389999, 113.870003, 113.650002,\n",
    "       113.459999, 111.400002, 110.980003, 108.529999, 110.080002,\n",
    "       110.309998, 109.879997, 111.089996, 107.120003, 107.709999,\n",
    "       106.57    , 106.699997, 109.809998, 109.720001, 110.120003,\n",
    "       111.949997, 111.360001, 111.129997, 111.43    , 110.779999])\n"
   ]
  },
  {
   "cell_type": "code",
   "execution_count": 139,
   "metadata": {},
   "outputs": [
    {
     "data": {
      "text/plain": [
       "(1, 1, 30)"
      ]
     },
     "execution_count": 139,
     "metadata": {},
     "output_type": "execute_result"
    }
   ],
   "source": [
    "\n",
    "new_input= new_input.reshape(-1,1)\n",
    "new_input = scaler.transform(new_input)\n",
    "new_input = new_input.reshape(1,1,30)\n",
    "new_input.shape\n"
   ]
  },
  {
   "cell_type": "code",
   "execution_count": 140,
   "metadata": {
    "collapsed": true
   },
   "outputs": [],
   "source": [
    "res = model.predict(new_input)\n",
    "res = scaler.inverse_transform([res[0]])"
   ]
  },
  {
   "cell_type": "code",
   "execution_count": 141,
   "metadata": {},
   "outputs": [
    {
     "data": {
      "text/plain": [
       "array([[109.37048565]])"
      ]
     },
     "execution_count": 141,
     "metadata": {},
     "output_type": "execute_result"
    }
   ],
   "source": [
    "res"
   ]
  },
  {
   "cell_type": "code",
   "execution_count": null,
   "metadata": {
    "collapsed": true
   },
   "outputs": [],
   "source": []
  }
 ],
 "metadata": {
  "kernelspec": {
   "display_name": "Python 3",
   "language": "python",
   "name": "python3"
  },
  "language_info": {
   "codemirror_mode": {
    "name": "ipython",
    "version": 3
   },
   "file_extension": ".py",
   "mimetype": "text/x-python",
   "name": "python",
   "nbconvert_exporter": "python",
   "pygments_lexer": "ipython3",
   "version": "3.5.6"
  }
 },
 "nbformat": 4,
 "nbformat_minor": 2
}
