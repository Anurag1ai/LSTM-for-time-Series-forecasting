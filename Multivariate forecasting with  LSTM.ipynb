{
 "cells": [
  {
   "cell_type": "code",
   "execution_count": 1,
   "metadata": {},
   "outputs": [
    {
     "name": "stderr",
     "output_type": "stream",
     "text": [
      "Using TensorFlow backend.\n"
     ]
    }
   ],
   "source": [
    "import numpy as np\n",
    "import matplotlib.pyplot as plt\n",
    "import pandas as pd\n",
    "pd.set_option('display.float_format', lambda x: '%.4f' % x)\n",
    "import seaborn as sns\n",
    "sns.set_context(\"paper\", font_scale=1.3)\n",
    "sns.set_style('white')\n",
    "import warnings\n",
    "warnings.filterwarnings('ignore')\n",
    "from time import time\n",
    "import matplotlib.ticker as tkr\n",
    "from scipy import stats\n",
    "from statsmodels.tsa.stattools import adfuller\n",
    "from sklearn import preprocessing\n",
    "from statsmodels.tsa.stattools import pacf\n",
    "%matplotlib inline\n",
    "\n",
    "from keras.models import Sequential\n",
    "from keras.layers import Dense\n",
    "from keras.layers import LSTM\n",
    "from keras.layers import Dropout\n",
    "from keras.layers import *\n",
    "from sklearn.preprocessing import MinMaxScaler\n",
    "from sklearn.metrics import mean_squared_error\n",
    "from sklearn.metrics import mean_absolute_error\n",
    "from keras.callbacks import EarlyStopping"
   ]
  },
  {
   "cell_type": "code",
   "execution_count": 19,
   "metadata": {},
   "outputs": [
    {
     "name": "stdout",
     "output_type": "stream",
     "text": [
      "Number of rows and columns: (755, 7)\n"
     ]
    },
    {
     "data": {
      "text/html": [
       "<div>\n",
       "<style>\n",
       "    .dataframe thead tr:only-child th {\n",
       "        text-align: right;\n",
       "    }\n",
       "\n",
       "    .dataframe thead th {\n",
       "        text-align: left;\n",
       "    }\n",
       "\n",
       "    .dataframe tbody tr th {\n",
       "        vertical-align: top;\n",
       "    }\n",
       "</style>\n",
       "<table border=\"1\" class=\"dataframe\">\n",
       "  <thead>\n",
       "    <tr style=\"text-align: right;\">\n",
       "      <th></th>\n",
       "      <th>Date</th>\n",
       "      <th>Open</th>\n",
       "      <th>High</th>\n",
       "      <th>Low</th>\n",
       "      <th>Close</th>\n",
       "      <th>Adj Close</th>\n",
       "      <th>Volume</th>\n",
       "    </tr>\n",
       "  </thead>\n",
       "  <tbody>\n",
       "    <tr>\n",
       "      <th>0</th>\n",
       "      <td>2016-09-06</td>\n",
       "      <td>107.9000</td>\n",
       "      <td>108.3000</td>\n",
       "      <td>107.5100</td>\n",
       "      <td>107.7000</td>\n",
       "      <td>102.6637</td>\n",
       "      <td>26880400</td>\n",
       "    </tr>\n",
       "    <tr>\n",
       "      <th>1</th>\n",
       "      <td>2016-09-07</td>\n",
       "      <td>107.8300</td>\n",
       "      <td>108.7600</td>\n",
       "      <td>107.0700</td>\n",
       "      <td>108.3600</td>\n",
       "      <td>103.2928</td>\n",
       "      <td>42364300</td>\n",
       "    </tr>\n",
       "    <tr>\n",
       "      <th>2</th>\n",
       "      <td>2016-09-08</td>\n",
       "      <td>107.2500</td>\n",
       "      <td>107.2700</td>\n",
       "      <td>105.2400</td>\n",
       "      <td>105.5200</td>\n",
       "      <td>100.5856</td>\n",
       "      <td>53002000</td>\n",
       "    </tr>\n",
       "    <tr>\n",
       "      <th>3</th>\n",
       "      <td>2016-09-09</td>\n",
       "      <td>104.6400</td>\n",
       "      <td>105.7200</td>\n",
       "      <td>103.1300</td>\n",
       "      <td>103.1300</td>\n",
       "      <td>98.3074</td>\n",
       "      <td>46557000</td>\n",
       "    </tr>\n",
       "    <tr>\n",
       "      <th>4</th>\n",
       "      <td>2016-09-12</td>\n",
       "      <td>102.6500</td>\n",
       "      <td>105.7200</td>\n",
       "      <td>102.5300</td>\n",
       "      <td>105.4400</td>\n",
       "      <td>100.5094</td>\n",
       "      <td>45292800</td>\n",
       "    </tr>\n",
       "  </tbody>\n",
       "</table>\n",
       "</div>"
      ],
      "text/plain": [
       "         Date     Open     High      Low    Close  Adj Close    Volume\n",
       "0  2016-09-06 107.9000 108.3000 107.5100 107.7000   102.6637  26880400\n",
       "1  2016-09-07 107.8300 108.7600 107.0700 108.3600   103.2928  42364300\n",
       "2  2016-09-08 107.2500 107.2700 105.2400 105.5200   100.5856  53002000\n",
       "3  2016-09-09 104.6400 105.7200 103.1300 103.1300    98.3074  46557000\n",
       "4  2016-09-12 102.6500 105.7200 102.5300 105.4400   100.5094  45292800"
      ]
     },
     "execution_count": 19,
     "metadata": {},
     "output_type": "execute_result"
    }
   ],
   "source": [
    "#Load the data\n",
    "df=pd.read_csv('C:\\\\TensorFlow\\\\AAPL.csv')\n",
    "print('Number of rows and columns:', df.shape)\n",
    "df.head(5)"
   ]
  },
  {
   "cell_type": "code",
   "execution_count": 20,
   "metadata": {},
   "outputs": [
    {
     "data": {
      "text/plain": [
       "Date          object\n",
       "Open         float64\n",
       "High         float64\n",
       "Low          float64\n",
       "Close        float64\n",
       "Adj Close    float64\n",
       "Volume         int64\n",
       "dtype: object"
      ]
     },
     "execution_count": 20,
     "metadata": {},
     "output_type": "execute_result"
    }
   ],
   "source": [
    "#Check the datatype\n",
    "df.dtypes"
   ]
  },
  {
   "cell_type": "code",
   "execution_count": 21,
   "metadata": {},
   "outputs": [
    {
     "data": {
      "text/plain": [
       "Date         0\n",
       "Open         0\n",
       "High         0\n",
       "Low          0\n",
       "Close        0\n",
       "Adj Close    0\n",
       "Volume       0\n",
       "dtype: int64"
      ]
     },
     "execution_count": 21,
     "metadata": {},
     "output_type": "execute_result"
    }
   ],
   "source": [
    "#check for missing values\n",
    "df.isnull().sum()"
   ]
  },
  {
   "cell_type": "code",
   "execution_count": 22,
   "metadata": {},
   "outputs": [
    {
     "data": {
      "text/plain": [
       "Date         datetime64[ns]\n",
       "Open                float64\n",
       "High                float64\n",
       "Low                 float64\n",
       "Close               float64\n",
       "Adj Close           float64\n",
       "Volume                int64\n",
       "dtype: object"
      ]
     },
     "execution_count": 22,
     "metadata": {},
     "output_type": "execute_result"
    }
   ],
   "source": [
    "# Convert Date to datetime format\n",
    "df[\"Date\"] = pd.to_datetime(df[\"Date\"])\n",
    "df.dtypes"
   ]
  },
  {
   "cell_type": "code",
   "execution_count": 23,
   "metadata": {},
   "outputs": [
    {
     "data": {
      "text/html": [
       "<div>\n",
       "<style>\n",
       "    .dataframe thead tr:only-child th {\n",
       "        text-align: right;\n",
       "    }\n",
       "\n",
       "    .dataframe thead th {\n",
       "        text-align: left;\n",
       "    }\n",
       "\n",
       "    .dataframe tbody tr th {\n",
       "        vertical-align: top;\n",
       "    }\n",
       "</style>\n",
       "<table border=\"1\" class=\"dataframe\">\n",
       "  <thead>\n",
       "    <tr style=\"text-align: right;\">\n",
       "      <th></th>\n",
       "      <th>Date</th>\n",
       "      <th>Open</th>\n",
       "      <th>High</th>\n",
       "      <th>Low</th>\n",
       "      <th>Close</th>\n",
       "      <th>Adj Close</th>\n",
       "      <th>Volume</th>\n",
       "    </tr>\n",
       "  </thead>\n",
       "  <tbody>\n",
       "    <tr>\n",
       "      <th>0</th>\n",
       "      <td>2016-09-06</td>\n",
       "      <td>107.9000</td>\n",
       "      <td>108.3000</td>\n",
       "      <td>107.5100</td>\n",
       "      <td>107.7000</td>\n",
       "      <td>102.6637</td>\n",
       "      <td>26880400</td>\n",
       "    </tr>\n",
       "    <tr>\n",
       "      <th>1</th>\n",
       "      <td>2016-09-07</td>\n",
       "      <td>107.8300</td>\n",
       "      <td>108.7600</td>\n",
       "      <td>107.0700</td>\n",
       "      <td>108.3600</td>\n",
       "      <td>103.2928</td>\n",
       "      <td>42364300</td>\n",
       "    </tr>\n",
       "    <tr>\n",
       "      <th>2</th>\n",
       "      <td>2016-09-08</td>\n",
       "      <td>107.2500</td>\n",
       "      <td>107.2700</td>\n",
       "      <td>105.2400</td>\n",
       "      <td>105.5200</td>\n",
       "      <td>100.5856</td>\n",
       "      <td>53002000</td>\n",
       "    </tr>\n",
       "    <tr>\n",
       "      <th>3</th>\n",
       "      <td>2016-09-09</td>\n",
       "      <td>104.6400</td>\n",
       "      <td>105.7200</td>\n",
       "      <td>103.1300</td>\n",
       "      <td>103.1300</td>\n",
       "      <td>98.3074</td>\n",
       "      <td>46557000</td>\n",
       "    </tr>\n",
       "    <tr>\n",
       "      <th>4</th>\n",
       "      <td>2016-09-12</td>\n",
       "      <td>102.6500</td>\n",
       "      <td>105.7200</td>\n",
       "      <td>102.5300</td>\n",
       "      <td>105.4400</td>\n",
       "      <td>100.5094</td>\n",
       "      <td>45292800</td>\n",
       "    </tr>\n",
       "  </tbody>\n",
       "</table>\n",
       "</div>"
      ],
      "text/plain": [
       "        Date     Open     High      Low    Close  Adj Close    Volume\n",
       "0 2016-09-06 107.9000 108.3000 107.5100 107.7000   102.6637  26880400\n",
       "1 2016-09-07 107.8300 108.7600 107.0700 108.3600   103.2928  42364300\n",
       "2 2016-09-08 107.2500 107.2700 105.2400 105.5200   100.5856  53002000\n",
       "3 2016-09-09 104.6400 105.7200 103.1300 103.1300    98.3074  46557000\n",
       "4 2016-09-12 102.6500 105.7200 102.5300 105.4400   100.5094  45292800"
      ]
     },
     "execution_count": 23,
     "metadata": {},
     "output_type": "execute_result"
    }
   ],
   "source": [
    "df.head()"
   ]
  },
  {
   "cell_type": "code",
   "execution_count": 24,
   "metadata": {},
   "outputs": [],
   "source": [
    "#Keep only Adj Close and Volume\n",
    "df = df.iloc[:,[5,6]].values"
   ]
  },
  {
   "cell_type": "code",
   "execution_count": 26,
   "metadata": {},
   "outputs": [
    {
     "data": {
      "text/plain": [
       "[]"
      ]
     },
     "execution_count": 26,
     "metadata": {},
     "output_type": "execute_result"
    },
    {
     "data": {
      "image/png": "[encoded data removed]",
      "text/plain": [
       "<matplotlib.figure.Figure at 0x21dc4b630f0>"
      ]
     },
     "metadata": {
      "needs_background": "light"
     },
     "output_type": "display_data"
    }
   ],
   "source": [
    "plt.plot(df[:,1])\n",
    "plt.title(\"volume of stocks sold\")\n",
    "plt.xlabel(\"records latest to oldest\")\n",
    "plt.ylabel(\"Volume\")\n",
    "plt.plot()"
   ]
  },
  {
   "cell_type": "code",
   "execution_count": 27,
   "metadata": {},
   "outputs": [
    {
     "data": {
      "text/plain": [
       "[]"
      ]
     },
     "execution_count": 27,
     "metadata": {},
     "output_type": "execute_result"
    },
    {
     "data": {
      "image/png": "[encoded data removed]",
      "text/plain": [
       "<matplotlib.figure.Figure at 0x21dc7b82cf8>"
      ]
     },
     "metadata": {
      "needs_background": "light"
     },
     "output_type": "display_data"
    }
   ],
   "source": [
    "#plot for closing price\n",
    "plt.plot(df[:,0])\n",
    "plt.title(\" Adjusted close price of stocks sold\")\n",
    "plt.xlabel(\"records oldest ->> latest\")\n",
    "plt.ylabel(\"Prices\")\n",
    "plt.plot()"
   ]
  },
  {
   "cell_type": "markdown",
   "metadata": {},
   "source": [
    "The following data pre-processing and feature engineering need to be done before construct the LSTM model.\n",
    "\n",
    "1. Create the dataset, ensure all data is float.\n",
    "\n",
    "2. Normalize the features.\n",
    "\n",
    "3. Split into training and test sets.\n",
    "\n",
    "4. Convert an array of values into a dataset matrix.\n",
    "\n",
    "5. Reshape into X=t and Y=t+1.\n",
    "\n",
    "6. Reshape input to be 3D (num_samples, num_timesteps, num_features)."
   ]
  },
  {
   "cell_type": "code",
   "execution_count": 58,
   "metadata": {},
   "outputs": [],
   "source": [
    "scaler = MinMaxScaler(feature_range=(0,1))\n",
    "dataset = scaler.fit_transform(df[:,:])\n"
   ]
  },
  {
   "cell_type": "markdown",
   "metadata": {},
   "source": [
    "This is a time series problem. If we need to predict the Apple stock prices correctly then we need to consider the volume of the stocks traded from the previous days as well as the adjusted closing stock prices from previous days.\n",
    "\n",
    "\n",
    "We will be creating the data that will go back to 50 business days in past for the prediction.\n",
    "\n",
    "Also, we will take 30 % of the latest data as our test dataset.\n",
    "\n",
    "For RNN LSTM to predict the data we need to convert the input data.\n",
    "\n",
    "Input data is in the form: [Volume of stocks traded, Adj Close stock price] and we need to create a time series data.\n",
    "The time series data for today should contain the [Volume of stocks traded, Adj Close stock price] for past 50 days and the target variable will be Apple’s adj close price today and so on."
   ]
  },
  {
   "cell_type": "code",
   "execution_count": 59,
   "metadata": {},
   "outputs": [
    {
     "name": "stdout",
     "output_type": "stream",
     "text": [
      "(528, 2) (227, 2)\n",
      "(477, 50, 2) (176, 50, 2)\n"
     ]
    }
   ],
   "source": [
    "trainSize =int(len(dataset)*.70)\n",
    "testSize = len(dataset) - trainSize\n",
    "train,test = dataset[0:trainSize,:],dataset[trainSize:len(dataset),:]\n",
    "print(train.shape,test.shape)\n",
    "def seriesToSupervised(data,lookback=1):\n",
    "    X,y = list(),list()\n",
    "    for i in range(len(data)-lookback-1):\n",
    "        xTemp = data[i:(i+lookback),:]\n",
    "        yTemp = data[i+lookback,0]\n",
    "        X.append(xTemp)\n",
    "        y.append(yTemp)\n",
    "    return np.array(X),np.array(y)\n",
    "lookback= 50\n",
    "x_train,y_train = seriesToSupervised(train,lookback)\n",
    "x_test,y_test= seriesToSupervised(test,lookback)\n",
    "print( x_train.shape,x_test.shape)"
   ]
  },
  {
   "cell_type": "code",
   "execution_count": 60,
   "metadata": {},
   "outputs": [
    {
     "data": {
      "text/plain": [
       "(477,)"
      ]
     },
     "execution_count": 60,
     "metadata": {},
     "output_type": "execute_result"
    }
   ],
   "source": [
    "y_train.shape"
   ]
  },
  {
   "cell_type": "code",
   "execution_count": 63,
   "metadata": {},
   "outputs": [],
   "source": [
    "# reshape input to be [samples, time steps, features]\n",
    "x_train = x_train.reshape(477,50,2)\n",
    "x_test = x_test.reshape(176,50,2)\n"
   ]
  },
  {
   "cell_type": "code",
   "execution_count": 70,
   "metadata": {},
   "outputs": [
    {
     "name": "stdout",
     "output_type": "stream",
     "text": [
      "Train on 477 samples, validate on 176 samples\n",
      "Epoch 1/20\n",
      "477/477 [==============================] - 4s 8ms/step - loss: 0.0354 - val_loss: 0.0732\n",
      "Epoch 2/20\n",
      "477/477 [==============================] - 1s 3ms/step - loss: 0.0528 - val_loss: 0.0409\n",
      "Epoch 3/20\n",
      "477/477 [==============================] - 1s 2ms/step - loss: 0.0057 - val_loss: 0.0062\n",
      "Epoch 4/20\n",
      "477/477 [==============================] - 1s 3ms/step - loss: 0.0077 - val_loss: 0.0057\n",
      "Epoch 5/20\n",
      "477/477 [==============================] - 1s 3ms/step - loss: 0.0030 - val_loss: 0.0038\n",
      "Epoch 6/20\n",
      "477/477 [==============================] - 1s 3ms/step - loss: 0.0017 - val_loss: 0.0036\n",
      "Epoch 7/20\n",
      "477/477 [==============================] - 1s 3ms/step - loss: 0.0016 - val_loss: 0.0035\n",
      "Epoch 8/20\n",
      "477/477 [==============================] - 1s 2ms/step - loss: 0.0016 - val_loss: 0.0034\n",
      "Epoch 9/20\n",
      "477/477 [==============================] - 1s 3ms/step - loss: 0.0015 - val_loss: 0.0034\n",
      "Epoch 10/20\n",
      "477/477 [==============================] - 1s 3ms/step - loss: 0.0015 - val_loss: 0.0033\n",
      "Epoch 11/20\n",
      "477/477 [==============================] - 1s 3ms/step - loss: 0.0015 - val_loss: 0.0033\n",
      "Epoch 12/20\n",
      "477/477 [==============================] - 1s 3ms/step - loss: 0.0015 - val_loss: 0.0032\n",
      "Epoch 13/20\n",
      "477/477 [==============================] - 1s 3ms/step - loss: 0.0014 - val_loss: 0.0031\n",
      "Epoch 14/20\n",
      "477/477 [==============================] - 1s 3ms/step - loss: 0.0014 - val_loss: 0.0031\n",
      "Epoch 15/20\n",
      "477/477 [==============================] - 2s 3ms/step - loss: 0.0014 - val_loss: 0.0030\n",
      "Epoch 16/20\n",
      "477/477 [==============================] - 1s 3ms/step - loss: 0.0014 - val_loss: 0.0030\n",
      "Epoch 17/20\n",
      "477/477 [==============================] - 1s 3ms/step - loss: 0.0014 - val_loss: 0.0029\n",
      "Epoch 18/20\n",
      "477/477 [==============================] - 1s 2ms/step - loss: 0.0014 - val_loss: 0.0029\n",
      "Epoch 19/20\n",
      "477/477 [==============================] - 1s 3ms/step - loss: 0.0013 - val_loss: 0.0028\n",
      "Epoch 20/20\n",
      "477/477 [==============================] - 1s 3ms/step - loss: 0.0013 - val_loss: 0.002700\n"
     ]
    }
   ],
   "source": [
    "#Model declaration\n",
    "#Define the LSTM with 100 neurons in the first hidden layer and 1 neuron in the output layer for predicting Volume.\n",
    "#The input shape will be 1 time step with 30 features.\n",
    "model = Sequential()\n",
    "\n",
    "model.add(LSTM(30, input_shape=(x_train.shape[1], x_train.shape[2]),return_sequences=True)) \n",
    "\n",
    "model.add(LSTM(30))\n",
    "\n",
    "model.add(Dense(1))\n",
    "\n",
    "model.compile(loss='mean_squared_error', optimizer='adam')\n",
    "\n",
    "trModel = model.fit(x_train, y_train, epochs=20, batch_size=30, validation_data=(x_test, y_test),\n",
    "                    callbacks=[EarlyStopping(monitor='val_loss', patience=10)], verbose=1, shuffle=False)"
   ]
  },
  {
   "cell_type": "code",
   "execution_count": 71,
   "metadata": {},
   "outputs": [
    {
     "name": "stdout",
     "output_type": "stream",
     "text": [
      "[0.0920275  0.08802157]\n",
      "[0.03316106 0.05435198]\n"
     ]
    }
   ],
   "source": [
    "train_predict = model.predict(x_train)\n",
    "test_predict = model.predict(x_test)\n",
    "print(train_predict[:2,0])\n",
    "print(y_train[:2])\n"
   ]
  },
  {
   "cell_type": "code",
   "execution_count": 72,
   "metadata": {},
   "outputs": [
    {
     "name": "stdout",
     "output_type": "stream",
     "text": [
      "Train Mean Absolute Error: 0.026465638333191484\n",
      "Train Root Mean Squared Error: 0.03531811408226283\n",
      "Test Mean Absolute Error: 0.03913858245556894\n",
      "Test Root Mean Squared Error: 0.05240864476204701\n"
     ]
    }
   ],
   "source": [
    "print('Train Mean Absolute Error:', mean_absolute_error(y_train, train_predict[:,0]))\n",
    "print('Train Root Mean Squared Error:',np.sqrt(mean_squared_error(y_train, train_predict[:,0])))\n",
    "print('Test Mean Absolute Error:', mean_absolute_error(y_test, test_predict[:,0]))\n",
    "print('Test Root Mean Squared Error:', np.sqrt(mean_squared_error(y_test, test_predict[:,0])))"
   ]
  },
  {
   "cell_type": "code",
   "execution_count": 74,
   "metadata": {},
   "outputs": [
    {
     "data": {
      "image/png": "[encoded data removed]",
      "text/plain": [
       "<matplotlib.figure.Figure at 0x21dd644b8d0>"
      ]
     },
     "metadata": {
      "needs_background": "light"
     },
     "output_type": "display_data"
    }
   ],
   "source": [
    "#lloks like our network has captured the overall trend, rest can be finetuned \n",
    "plt.plot(test_predict, color= 'red')\n",
    "plt.plot(y_test, color='green')\n",
    "plt.title(\"Opening price of stocks sold\")\n",
    "plt.xlabel(\"Time (latest-> oldest)\")\n",
    "plt.ylabel(\"Stock Opening Price\")\n",
    "plt.show()"
   ]
  },
  {
   "cell_type": "code",
   "execution_count": 75,
   "metadata": {},
   "outputs": [
    {
     "data": {
      "image/png": "[encoded data removed]",
      "text/plain": [
       "<matplotlib.figure.Figure at 0x21dd5abc9b0>"
      ]
     },
     "metadata": {
      "needs_background": "light"
     },
     "output_type": "display_data"
    }
   ],
   "source": [
    "#Visualizing loss\n",
    "plt.figure(figsize=(8,4))\n",
    "plt.plot(trModel.history['loss'], label='Train Loss')\n",
    "plt.plot(trModel.history['val_loss'], label='Test Loss')\n",
    "plt.title('model loss')\n",
    "plt.ylabel('loss')\n",
    "plt.xlabel('epochs')\n",
    "plt.legend(loc='upper right')\n",
    "plt.show();"
   ]
  },
  {
   "cell_type": "code",
   "execution_count": null,
   "metadata": {
    "collapsed": true
   },
   "outputs": [],
   "source": []
  }
 ],
 "metadata": {
  "kernelspec": {
   "display_name": "Python 3",
   "language": "python",
   "name": "python3"
  },
  "language_info": {
   "codemirror_mode": {
    "name": "ipython",
    "version": 3
   },
   "file_extension": ".py",
   "mimetype": "text/x-python",
   "name": "python",
   "nbconvert_exporter": "python",
   "pygments_lexer": "ipython3",
   "version": "3.5.6"
  }
 },
 "nbformat": 4,
 "nbformat_minor": 2
}
